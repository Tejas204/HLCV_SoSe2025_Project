{
 "cells": [
  {
   "cell_type": "code",
   "execution_count": null,
   "id": "0e286120",
   "metadata": {},
   "outputs": [],
   "source": [
    "# -------------------------------------------------------------------------------------------------------------\n",
    "# Imports\n",
    "# -------------------------------------------------------------------------------------------------------------\n",
    "import os\n",
    "import numpy as np\n",
    "import matplotlib.pyplot as plt\n",
    "import seaborn as sns\n",
    "from PIL import Image\n",
    "\n",
    "import torch\n",
    "import torch.nn as nn\n",
    "import torch.nn.functional as functional\n",
    "import torch.optim as optim\n",
    "\n",
    "import torchvision\n",
    "import torchvision.transforms as transforms\n",
    "from torchvision.transforms import ToPILImage\n",
    "from skimage.metrics import peak_signal_noise_ratio as compute_psnr\n",
    "from skimage.metrics import structural_similarity as compute_ssim\n",
    "from training_evaluation.trainer_evaluator import TRAINER_EVALUATOR"
   ]
  },
  {
   "cell_type": "code",
   "execution_count": 2,
   "id": "2fd380b9",
   "metadata": {},
   "outputs": [],
   "source": [
    "# -------------------------------------------------------------------------------------------------------------\n",
    "# System path for imports\n",
    "# -------------------------------------------------------------------------------------------------------------\n",
    "PROJECT_ROOT='./'\n",
    "import sys\n",
    "sys.path.append(PROJECT_ROOT)"
   ]
  },
  {
   "cell_type": "markdown",
   "id": "e76ae4d6",
   "metadata": {},
   "source": [
    "## Experiment 1: CNN + Transformer Hybrid Architecture\n",
    "\n",
    "Contains the hybrid architecture with element wise product of features"
   ]
  },
  {
   "cell_type": "markdown",
   "id": "6cfeebd0",
   "metadata": {},
   "source": [
    "### Image patching"
   ]
  },
  {
   "cell_type": "code",
   "execution_count": 16,
   "id": "e0ba00c6",
   "metadata": {},
   "outputs": [
    {
     "name": "stdout",
     "output_type": "stream",
     "text": [
      "Channels, height and width: (3, 720, 1280)\n",
      "(720, 1280, 3)\n"
     ]
    }
   ],
   "source": [
    "# -------------------------------------------------------------------------------------------------------------\n",
    "# Factorization\n",
    "# Calculate the factors and return the optimal number of rows and columns for patches\n",
    "# -------------------------------------------------------------------------------------------------------------\n",
    "\n",
    "def factorization(number):\n",
    "    factors = []\n",
    "\n",
    "    for i in range(1, number+1):\n",
    "        if number%i == 0:\n",
    "            factors.append(i)\n",
    "    \n",
    "    middle_value = int(len(factors) / 2)\n",
    "    factors = factors[middle_value:]\n",
    "    middle = int(len(factors) / 2)\n",
    "    partitions = int(number / factors[middle])\n",
    "    patch_size = factors[middle]\n",
    "    return patch_size, partitions\n",
    "\n",
    "\n",
    "\n",
    "\n",
    "# -------------------------------------------------------------------------------------------------------------\n",
    "# Patching\n",
    "# -------------------------------------------------------------------------------------------------------------\n",
    "def convert_to_patches(image):\n",
    "    # Factorize and choose maximum factor\n",
    "    C, H, W = image.shape\n",
    "    if H == W:\n",
    "        rows = columns = int(np.sqrt(H))\n",
    "    else:\n",
    "        # call factorization method\n",
    "        row_size, rows = factorization(H)\n",
    "        column_size, columns = factorization(W)\n",
    "\n",
    "    img_patches = []\n",
    "    patches = []\n",
    "    for i in range(0, H, row_size):\n",
    "        for j in range(0, W, column_size):\n",
    "            patches.append(image[:, i: i+row_size, j: j+column_size])\n",
    "            img_patches.append(ToPILImage()(image[:, i: i+row_size, j: j+column_size]))\n",
    "\n",
    "    patch_tensors = torch.stack(patches, dim=0)\n",
    "\n",
    "    return patches, patch_tensors, columns\n",
    "\n",
    "# -------------------------------------------------------------------------------------------------------------\n",
    "# Stitching\n",
    "# -------------------------------------------------------------------------------------------------------------\n",
    "def stitch_image(patches, columns):\n",
    "    stitched_image = []\n",
    "    for i in range(0, len(patches[:]), columns):\n",
    "        row = torch.cat(patches[:][i:i+columns], dim=2)\n",
    "        stitched_image.append(row)\n",
    "\n",
    "    final_image = torch.cat(stitched_image, dim=1)\n",
    "    stitched_pil = ToPILImage()(final_image)\n",
    "    stitched_pil.show()\n",
    "\n",
    "    return stitched_pil\n",
    "\n",
    "# Preliminary transforms\n",
    "transform = transforms.Compose([transforms.ToTensor()])\n",
    "raw_image = Image.open(\"./Go_Pro_1.png\").convert('RGB')\n",
    "image = transform(raw_image)\n",
    "C, H, W = image.shape\n",
    "print(f\"Channels, height and width: {C, H, W}\")\n",
    "\n",
    "img_patches, tensors,columns = convert_to_patches(image)\n",
    "stitched_pil = stitch_image(img_patches, columns)\n",
    "print(np.array(stitched_pil).shape)"
   ]
  },
  {
   "cell_type": "markdown",
   "id": "ce37e98c",
   "metadata": {},
   "source": [
    "### CNN-ViT Hybrid Model"
   ]
  },
  {
   "cell_type": "markdown",
   "id": "fc7f503c",
   "metadata": {},
   "source": [
    "#### Training for CNN-ViT hybrid with patching and custom transformer"
   ]
  },
  {
   "cell_type": "code",
   "execution_count": null,
   "id": "93f60b3d",
   "metadata": {},
   "outputs": [],
   "source": [
    "# -------------------------------------------------------------------------------------------------------------\n",
    "# Training for CNN-ViT hybrid with patching and custom transformer\n",
    "# -------------------------------------------------------------------------------------------------------------\n",
    "def train_patching(model, dataloader, optimizer, epochs=5,log_file='training_log.txt', best_model_dir='best_models/'):\n",
    "    device = torch.device(\"cuda\" if torch.cuda.is_available() else \"cpu\")\n",
    "    model = model.to(device)\n",
    "    criterion = nn.MSELoss()\n",
    "\n",
    "    os.makedirs(best_model_dir, exist_ok=True)\n",
    "    best_loss = float('inf')\n",
    "\n",
    "    # Define structures for capturing loss and epochs\n",
    "    history = {\n",
    "        \"train_loss\": [],\n",
    "        \"epochs\": []\n",
    "    }\n",
    "\n",
    "    # Open log file\n",
    "    with open(log_file, 'w') as log:\n",
    "        for epoch in range(epochs):\n",
    "            model.train()\n",
    "            total_loss = 0.0\n",
    "\n",
    "            for blurry, sharp in dataloader:\n",
    "                blurry = blurry.to(device)\n",
    "                sharp = sharp.to(device)\n",
    "\n",
    "                input_blurry_patches, image_blurry_tensors, columns = convert_to_patches(blurry)\n",
    "                gt_patches, gt_patch_tensors, columns = convert_to_patches(sharp)\n",
    "\n",
    "                \n",
    "                optimizer.zero_grad()\n",
    "                output = model(image_blurry_tensors)\n",
    "                loss = criterion(output, gt_patch_tensors)\n",
    "                loss.backward()\n",
    "                optimizer.step()\n",
    "\n",
    "                total_loss += loss.item()\n",
    "\n",
    "            avg_loss = total_loss / len(dataloader)\n",
    "            history['train_loss'].append(avg_loss)\n",
    "            history['epochs'].append(epoch)\n",
    "\n",
    "            # Save best model\n",
    "            if avg_loss < best_loss:\n",
    "                best_loss = avg_loss\n",
    "                torch.save(model.state_dict(), os.path.join(best_model_dir, 'best_model.pth'))\n",
    "\n",
    "            # Logging\n",
    "            log_line = f\"Epoch {epoch+1}/{epochs} - Loss: {avg_loss:.4f}\\n\"\n",
    "            print(log_line.strip())\n",
    "            log.write(log_line)\n",
    "            log.flush()\n",
    "\n",
    "        # Visualization\n",
    "        plt.plot(np.array(history['epochs']), np.array(history['train_loss']))\n",
    "        plt.xlabel(\"Epochs\")\n",
    "        plt.ylabel(\"Loss\")\n",
    "        plt.title(\"Training Loss vs Epoch for Pretrained CNN-ViT Hybrid with no patching\")\n",
    "        plt.show()\n",
    "\n",
    "# -------------------------------------------------------------------------------------------------------------\n",
    "# Evaluation for CNN-ViT hybrid with patching and custom transformer\n",
    "# -------------------------------------------------------------------------------------------------------------\n",
    "def evaluate_model_on_patches(model, val_loader, criterion, patch_size, stride, device):\n",
    "    model.eval()\n",
    "    total_loss = 0.0\n",
    "    psnr_total = 0.0\n",
    "    ssim_total = 0.0\n",
    "    image_count = 0\n",
    "\n",
    "    with torch.no_grad():\n",
    "        for blur, sharp in val_loader:\n",
    "            blur = blur.to(device)\n",
    "            sharp = sharp.to(device)\n",
    "\n",
    "            input_blurry_patches, image_blurry_tensors, columns = convert_to_patches(blur)\n",
    "            gt_patches, gt_patch_tensors, columns = convert_to_patches(sharp)\n",
    "\n",
    "            outputs = model(image_blurry_tensors)\n",
    "            loss = criterion(outputs, gt_patch_tensors)\n",
    "            total_loss += loss.item()\n",
    "\n",
    "            # Move to CPU for PSNR/SSIM\n",
    "            outputs = list(torch.unbind(outputs, dim=0))\n",
    "            stitched_output = stitch_image(outputs, columns)\n",
    "            outputs_cpu = np.array(stitched_output)\n",
    "            targets_cpu = np.array(sharp)\n",
    "\n",
    "            \n",
    "            out_img = np.clip(outputs_cpu, 0, 1)\n",
    "            tgt_img = np.clip(targets_cpu, 0, 1)\n",
    "\n",
    "            psnr_total += compute_psnr(tgt_img, out_img, data_range=1.0)\n",
    "            ssim_total += compute_ssim(tgt_img, out_img, data_range=1.0, channel_axis=2)\n",
    "            image_count += 1\n",
    "\n",
    "    avg_loss = total_loss / len(val_loader.dataset)\n",
    "    avg_psnr = psnr_total / image_count\n",
    "    avg_ssim = ssim_total / image_count\n",
    "\n",
    "    return avg_loss, avg_psnr, avg_ssim"
   ]
  },
  {
   "cell_type": "code",
   "execution_count": 11,
   "id": "1321ea90",
   "metadata": {},
   "outputs": [
    {
     "name": "stderr",
     "output_type": "stream",
     "text": [
      "/opt/anaconda3/envs/HLCV/lib/python3.12/site-packages/transformers/models/vit/feature_extraction_vit.py:30: FutureWarning: The class ViTFeatureExtractor is deprecated and will be removed in version 5 of Transformers. Please use ViTImageProcessor instead.\n",
      "  warnings.warn(\n",
      "Some weights of ViTModel were not initialized from the model checkpoint at google/vit-base-patch16-224 and are newly initialized: ['pooler.dense.bias', 'pooler.dense.weight']\n",
      "You should probably TRAIN this model on a down-stream task to be able to use it for predictions and inference.\n",
      "`torch.nn.functional.scaled_dot_product_attention` does not support `output_attentions=True`. Falling back to eager attention. This warning can be removed using the argument `attn_implementation=\"eager\"` when loading the model.\n"
     ]
    },
    {
     "name": "stdout",
     "output_type": "stream",
     "text": [
      "CNN Features: torch.Size([512, 784]) = 512 channels, 28.0 height, width\n",
      "Attention shape: torch.Size([1, 197, 197])\n",
      "Attention Map reshaped: torch.Size([1, 1, 197, 197])\n",
      "Attention Map after interpolation: torch.Size([1, 1, 512, 784])\n",
      "Attention Map resized: torch.Size([1, 512, 512, 784])\n"
     ]
    },
    {
     "data": {
      "image/png": "[encoded data removed]",
      "text/plain": [
       "<Figure size 400x400 with 1 Axes>"
      ]
     },
     "metadata": {},
     "output_type": "display_data"
    },
    {
     "data": {
      "image/png": "[encoded data removed]",
      "text/plain": [
       "<Figure size 1200x900 with 12 Axes>"
      ]
     },
     "metadata": {},
     "output_type": "display_data"
    },
    {
     "name": "stdout",
     "output_type": "stream",
     "text": [
      "torch.Size([1, 3, 512, 784])\n"
     ]
    }
   ],
   "source": [
    "# -------------------------------------------------------------------------------------------------------------\n",
    "# Driver Code\n",
    "# -------------------------------------------------------------------------------------------------------------\n",
    "from architecture.cnn_vit_hybrid_architecture import CNN_VIT_HYBRID_ARCHITECTURE\n",
    "\n",
    "transform = transforms.Compose([transforms.Resize((224, 224)), transforms.ToTensor()])\n",
    "raw_image = Image.open(\"./Blur.png\").convert('RGB')\n",
    "image = transform(raw_image)\n",
    "\n",
    "\n",
    "# -------------------------------------------------------------------------------------------------------------\n",
    "# Run experiments\n",
    "# -------------------------------------------------------------------------------------------------------------\n",
    "model = CNN_VIT_HYBRID_ARCHITECTURE()\n",
    "output = model(image)\n",
    "print(output.shape)"
   ]
  },
  {
   "cell_type": "markdown",
   "id": "c165e613",
   "metadata": {},
   "source": [
    "#### Training for CNN-ViT hybrid without patching and pretrained weights"
   ]
  },
  {
   "cell_type": "code",
   "execution_count": null,
   "id": "6eea57b0",
   "metadata": {},
   "outputs": [],
   "source": [
    "print(\"Training started...\")\n",
    "trainer_evaluator = TRAINER_EVALUATOR()\n",
    "trainer_evaluator.train_pretrained_cnn_vit_no_patch(model, train_loader, optimizer, criterion, 100)\n",
    "\n",
    "print(\"Loading best model for evaluation...\")\n",
    "try:\n",
    "    model.load_state_dict(torch.load('/home/hlcv_team041/Project/best_models/cnn_vit_dot_product_no_patch/best_model.pth'))\n",
    "except FileNotFoundError:\n",
    "    print(\"Best model file not found. Skipping evaluation and visualization.\")\n",
    "    exit()\n",
    "\n",
    "print(\"Evaluating on test set...\")\n",
    "trainer_evaluator.eval_pretrained_cnn_vit_no_patch(model, val_loader, criterion)"
   ]
  }
 ],
 "metadata": {
  "kernelspec": {
   "display_name": "HLCV",
   "language": "python",
   "name": "python3"
  },
  "language_info": {
   "codemirror_mode": {
    "name": "ipython",
    "version": 3
   },
   "file_extension": ".py",
   "mimetype": "text/x-python",
   "name": "python",
   "nbconvert_exporter": "python",
   "pygments_lexer": "ipython3",
   "version": "3.12.2"
  }
 },
 "nbformat": 4,
 "nbformat_minor": 5
}
