{
 "cells": [
  {
   "cell_type": "code",
   "execution_count": 1,
   "id": "0e286120",
   "metadata": {},
   "outputs": [],
   "source": [
    "# -------------------------------------------------------------------------------------------------------------\n",
    "# Imports\n",
    "# -------------------------------------------------------------------------------------------------------------\n",
    "import numpy as np\n",
    "import matplotlib.pyplot as plt\n",
    "import seaborn as sns\n",
    "\n",
    "import torch\n",
    "import torch.nn as nn\n",
    "import torch.nn.functional as functional\n",
    "import torch.optim as optim\n",
    "\n",
    "import torchvision\n",
    "import torchvision.transforms as transforms"
   ]
  },
  {
   "cell_type": "code",
   "execution_count": 2,
   "id": "2fd380b9",
   "metadata": {},
   "outputs": [],
   "source": [
    "# -------------------------------------------------------------------------------------------------------------\n",
    "# System path for imports\n",
    "# -------------------------------------------------------------------------------------------------------------\n",
    "PROJECT_ROOT='./'\n",
    "import sys\n",
    "sys.path.append(PROJECT_ROOT)"
   ]
  },
  {
   "cell_type": "markdown",
   "id": "58f18e8e",
   "metadata": {},
   "source": [
    "### Branch 1"
   ]
  },
  {
   "cell_type": "code",
   "execution_count": 8,
   "id": "1eb3c1ad",
   "metadata": {},
   "outputs": [
    {
     "name": "stdout",
     "output_type": "stream",
     "text": [
      "tensor([[0.0000, 0.0532, 0.0390,  ..., 0.4152, 0.5100, 0.3257]],\n",
      "       grad_fn=<ViewBackward0>)\n",
      "torch.Size([1, 401408])\n",
      "torch.Size([512, 28, 28])\n"
     ]
    }
   ],
   "source": [
    "# -------------------------------------------------------------------------------------------------------------\n",
    "# Driver code\n",
    "# -------------------------------------------------------------------------------------------------------------\n",
    "\n",
    "from architecture.cnn_architecture import CNN_ARCHITECTURE\n",
    "from configs.cnn_branch_config import cnn_experiment_1\n",
    "\n",
    "model = CNN_ARCHITECTURE(cnn_experiment_1['model_args']['input_size'], cnn_experiment_1['model_args']['hidden_layers'], cnn_experiment_1['model_args']['activation'], cnn_experiment_1['model_args']['norm_layer'], cnn_experiment_1['model_args']['drop_prob'])\n",
    "model.eval()\n",
    "\n",
    "input = torch.randn(1,3,224,224)\n",
    "\n",
    "final_features = model(input)\n",
    "\n",
    "print(final_features)\n",
    "print(final_features.shape)\n",
    "\n",
    "features_in_shape = final_features.view(512, 28, 28)\n",
    "print(features_in_shape.shape)"
   ]
  },
  {
   "cell_type": "markdown",
   "id": "2650c44d",
   "metadata": {},
   "source": [
    "### Branch 2"
   ]
  },
  {
   "cell_type": "code",
   "execution_count": null,
   "id": "feea971c",
   "metadata": {},
   "outputs": [],
   "source": []
  }
 ],
 "metadata": {
  "kernelspec": {
   "display_name": "HLCV",
   "language": "python",
   "name": "python3"
  },
  "language_info": {
   "codemirror_mode": {
    "name": "ipython",
    "version": 3
   },
   "file_extension": ".py",
   "mimetype": "text/x-python",
   "name": "python",
   "nbconvert_exporter": "python",
   "pygments_lexer": "ipython3",
   "version": "3.12.2"
  }
 },
 "nbformat": 4,
 "nbformat_minor": 5
}
