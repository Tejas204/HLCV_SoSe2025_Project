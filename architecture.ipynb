{
 "cells": [
  {
   "cell_type": "markdown",
   "id": "cc41dc87",
   "metadata": {},
   "source": [
    "## Architecture code"
   ]
  },
  {
   "cell_type": "markdown",
   "id": "76509c16",
   "metadata": {},
   "source": [
    "### CNN Architecture"
   ]
  },
  {
   "cell_type": "code",
   "execution_count": null,
   "id": "bf0737aa",
   "metadata": {},
   "outputs": [],
   "source": [
    "# -------------------------------------------------------------------------------------------------------------\n",
    "# IMPORTS\n",
    "# -------------------------------------------------------------------------------------------------------------\n",
    "import numpy as np\n",
    "import matplotlib.pyplot as plt\n",
    "import seaborn as sns\n",
    "\n",
    "import torch\n",
    "import torch.nn as nn\n",
    "import torch.nn.functional as functional\n",
    "import torch.optim as optim\n",
    "\n",
    "import torchvision\n",
    "import torchvision.transforms as transforms\n"
   ]
  },
  {
   "cell_type": "markdown",
   "id": "21adcddb",
   "metadata": {},
   "source": [
    "#### Branch 1"
   ]
  },
  {
   "cell_type": "code",
   "execution_count": null,
   "id": "fd4d1d8f",
   "metadata": {},
   "outputs": [],
   "source": [
    "# -------------------------------------------------------------------------------------------------------------\n",
    "# @CLASS: CNN_ARCHITECTURE\n",
    "# -------------------------------------------------------------------------------------------------------------\n",
    "class CNN_ARCHITECTURE(nn.Module):\n",
    "    def __init__(self, input_size, hidden_layers, activation, norm_layer, drop_prob=0.0):\n",
    "        super(CNN_ARCHITECTURE, self).__init__()\n",
    "\n",
    "        # Initialize variables\n",
    "        self.input_size = input_size\n",
    "        self.hidden_layers = hidden_layers\n",
    "        self.activation = activation\n",
    "        self.norm_layer = norm_layer\n",
    "        self.drop_prob = drop_prob\n",
    "\n",
    "        self.build_model()\n",
    "\n",
    "    \"\"\"-------------------------------------------------------------------------------------------------------------\n",
    "    @Function: build_model\n",
    "    @Args: self\n",
    "    @Returns: features\n",
    "    @Description: Create a CNN architecture that extracts the features from the input images\n",
    "    -------------------------------------------------------------------------------------------------------------\"\"\"\n",
    "    def build_model(self):\n",
    "\n",
    "        layers = []\n",
    "        input_dim = self.input_size\n",
    "        for i in range(len(self.hidden_layers)):\n",
    "            # Add the convoluiton layer\n",
    "            layers.append(nn.Conv2d(input_dim, self.hidden_layers[i], 3, stride=1, padding=1))\n",
    "\n",
    "            # Add batch normalization\n",
    "            if self.norm_layer:\n",
    "                layers.append(self.norm_layer(self.hidden_layers[i]))\n",
    "            \n",
    "            # Add maxpooling, change this condition\n",
    "            if True:\n",
    "                layers.append(nn.MaxPool2d(2,2))\n",
    "            \n",
    "            # Add activation\n",
    "            layers.append(self.activation())\n",
    "\n",
    "            # Add dropout\n",
    "            if self.drop_prob:\n",
    "                layers.append(nn.Dropout(self.drop_prob))\n",
    "\n",
    "            input_dim = self.hidden_layers[i]\n",
    "        \n",
    "        self.features = nn.Sequential(layers)\n",
    "\n",
    "    \"\"\"-------------------------------------------------------------------------------------------------------------\n",
    "    @Function: forward\n",
    "    @Args: \n",
    "        self: object\n",
    "        x: inputs\n",
    "    @Returns: features\n",
    "    @Description: Passes the input to the CNN architecture for feature extraction\n",
    "    -------------------------------------------------------------------------------------------------------------\"\"\"\n",
    "    def forward(self, x):\n",
    "        features = self.features(x)\n",
    "\n",
    "        return features\n",
    "\n",
    "    \n",
    "\n",
    "# -------------------------------------------------------------------------------------------------------------\n",
    "# @FUNCTION: image_denoising()\n",
    "# @ARGS: input images of dim\n",
    "# @RETURNS: extracted features\n",
    "# A denoising filter to remove the noise from the input images\n",
    "# -------------------------------------------------------------------------------------------------------------\n",
    "def image_denoising():\n",
    "    print(\"I am denoising\")\n",
    "    cnn_architecture()"
   ]
  },
  {
   "cell_type": "code",
   "execution_count": 6,
   "id": "27631cf9",
   "metadata": {},
   "outputs": [
    {
     "name": "stdout",
     "output_type": "stream",
     "text": [
      "I am denoising\n",
      "I am constructing a model\n"
     ]
    }
   ],
   "source": [
    "# -------------------------------------------------------------------------------------------------------------\n",
    "# DRIVER CODE\n",
    "# -------------------------------------------------------------------------------------------------------------\n",
    "image_denoising()"
   ]
  },
  {
   "cell_type": "code",
   "execution_count": null,
   "id": "355b9cad",
   "metadata": {},
   "outputs": [],
   "source": []
  }
 ],
 "metadata": {
  "kernelspec": {
   "display_name": "HLCV",
   "language": "python",
   "name": "python3"
  },
  "language_info": {
   "codemirror_mode": {
    "name": "ipython",
    "version": 3
   },
   "file_extension": ".py",
   "mimetype": "text/x-python",
   "name": "python",
   "nbconvert_exporter": "python",
   "pygments_lexer": "ipython3",
   "version": "3.12.2"
  }
 },
 "nbformat": 4,
 "nbformat_minor": 5
}
