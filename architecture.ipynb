{
 "cells": [
  {
   "cell_type": "markdown",
   "id": "cc41dc87",
   "metadata": {},
   "source": [
    "## Architecture code"
   ]
  },
  {
   "cell_type": "markdown",
   "id": "76509c16",
   "metadata": {},
   "source": [
    "### CNN Architecture"
   ]
  },
  {
   "cell_type": "code",
   "execution_count": 3,
   "id": "bf0737aa",
   "metadata": {},
   "outputs": [],
   "source": [
    "# -------------------------------------------------------------------------------------------------------------\n",
    "# IMPORTS\n",
    "# Import numpy, matplotlib, seaborn and pytorch for mathematical operations, plotting and model architecture\n",
    "# -------------------------------------------------------------------------------------------------------------\n",
    "import numpy as np\n",
    "import matplotlib.pyplot as plt\n",
    "import seaborn as sns\n",
    "import torch"
   ]
  },
  {
   "cell_type": "markdown",
   "id": "21adcddb",
   "metadata": {},
   "source": [
    "#### Branch 1"
   ]
  },
  {
   "cell_type": "code",
   "execution_count": 5,
   "id": "fd4d1d8f",
   "metadata": {},
   "outputs": [],
   "source": [
    "# -------------------------------------------------------------------------------------------------------------\n",
    "# @FUNCTION: cnn_architecture()\n",
    "# @ARGS: input images of dim\n",
    "# @RETURNS: feature array\n",
    "# Create a CNN architecture that extracts the features from the input images\n",
    "# -------------------------------------------------------------------------------------------------------------\n",
    "def cnn_architecture():\n",
    "    print(\"I am constructing a model\")\n",
    "\n",
    "# -------------------------------------------------------------------------------------------------------------\n",
    "# @FUNCTION: image_denoising()\n",
    "# @ARGS: input images of dim\n",
    "# @RETURNS: extracted features\n",
    "# A denoising filter to remove the noise from the input images\n",
    "# -------------------------------------------------------------------------------------------------------------\n",
    "def image_denoising():\n",
    "    print(\"I am denoising\")\n",
    "    cnn_architecture()"
   ]
  },
  {
   "cell_type": "code",
   "execution_count": 6,
   "id": "27631cf9",
   "metadata": {},
   "outputs": [
    {
     "name": "stdout",
     "output_type": "stream",
     "text": [
      "I am denoising\n",
      "I am constructing a model\n"
     ]
    }
   ],
   "source": [
    "# -------------------------------------------------------------------------------------------------------------\n",
    "# DRIVER CODE\n",
    "# -------------------------------------------------------------------------------------------------------------\n",
    "image_denoising()"
   ]
  },
  {
   "cell_type": "code",
   "execution_count": null,
   "id": "355b9cad",
   "metadata": {},
   "outputs": [],
   "source": []
  }
 ],
 "metadata": {
  "kernelspec": {
   "display_name": "HLCV",
   "language": "python",
   "name": "python3"
  },
  "language_info": {
   "codemirror_mode": {
    "name": "ipython",
    "version": 3
   },
   "file_extension": ".py",
   "mimetype": "text/x-python",
   "name": "python",
   "nbconvert_exporter": "python",
   "pygments_lexer": "ipython3",
   "version": "3.12.2"
  }
 },
 "nbformat": 4,
 "nbformat_minor": 5
}
